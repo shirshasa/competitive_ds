{
 "cells": [
  {
   "cell_type": "code",
   "execution_count": 1,
   "id": "0a685b46-84f3-4dff-be65-2a5f74a1166d",
   "metadata": {},
   "outputs": [],
   "source": [
    "import pandas as pd\n",
    "from catboost import CatBoostClassifier\n",
    "from sklearn.model_selection import train_test_split"
   ]
  },
  {
   "cell_type": "code",
   "execution_count": 16,
   "id": "8fc76cc9-2722-41e0-a717-3c8a7d847975",
   "metadata": {},
   "outputs": [],
   "source": [
    "import numpy as np"
   ]
  },
  {
   "cell_type": "markdown",
   "id": "9c27fa2f-96d7-4e74-91aa-e8faba310981",
   "metadata": {},
   "source": [
    "### catom metric"
   ]
  },
  {
   "cell_type": "code",
   "execution_count": 89,
   "id": "1c5b7528-7397-43ea-8f91-28be9e977dff",
   "metadata": {},
   "outputs": [],
   "source": [
    "class P4Metric(object):\n",
    "    def get_final_error(self, error, weight):\n",
    "        return error / (weight + 1e-38)\n",
    "\n",
    "    def is_max_optimal(self):\n",
    "        return True\n",
    "\n",
    "    def evaluate(self, approxes, target, weight):\n",
    "        assert len(approxes) == 1\n",
    "        assert len(target) == len(approxes[0])\n",
    "        # get probs and preds\n",
    "        approx = approxes[0]\n",
    "        e = np.exp(approx)\n",
    "        p = e / (1 + e)\n",
    "        preds = (p > 0.5).astype(int)\n",
    "        target = np.array(target).astype(int)\n",
    "            \n",
    "        tn = ((preds == 0) & (target == 0)).sum()\n",
    "        fn = ((preds == 0) & (target == 1)).sum()\n",
    "        fp = ((preds == 1) & (target == 0)).sum()\n",
    "        tp = ((preds == 1) & (target == 1)).sum()\n",
    "\n",
    "        p4 = (4 * tp * tn) / (4* tp * tn + (tp + tn) * (fp + fn))\n",
    "        return p4, 1"
   ]
  },
  {
   "cell_type": "markdown",
   "id": "8180cb2a-3f83-462f-8f70-456b00c6c34c",
   "metadata": {},
   "source": [
    "### check"
   ]
  },
  {
   "cell_type": "code",
   "execution_count": 10,
   "id": "8192d297-da37-43d5-be79-26b8e2d258d0",
   "metadata": {},
   "outputs": [],
   "source": [
    "path = 'https://stepik.org/media/attachments/lesson/779917/CB_bin_target_data.csv'\n",
    "rides_info = pd.read_csv(path)\n",
    "cat_cols = ['car_type', 'fuel_type', 'model']\n",
    "X = rides_info.drop(['target_bin'], axis=1)\n",
    "y = rides_info['target_bin']\n",
    "\n",
    "X_train, X_test, y_train, y_test = train_test_split(X, y, test_size=0.2, random_state=42)\n"
   ]
  },
  {
   "cell_type": "code",
   "execution_count": 83,
   "id": "3116a24c-ea5a-4ee1-b52e-af96a1a68188",
   "metadata": {},
   "outputs": [
    {
     "name": "stdout",
     "output_type": "stream",
     "text": [
      "Learning rate set to 0.036983\n",
      "0:\tlearn: 0.0000000\ttest: 0.0000000\tbest: 0.0000000 (0)\ttotal: 79.7ms\tremaining: 1m 19s\n"
     ]
    },
    {
     "name": "stderr",
     "output_type": "stream",
     "text": [
      "/home/katsiaryna/.conda/envs/ranking/lib/python3.9/site-packages/catboost/core.py:1761: UserWarning: Failed to optimize method \"evaluate\" in the passed object:\n",
      "Failed in nopython mode pipeline (step: nopython frontend)\n",
      "Invalid use of BoundFunction(array.astype for array(bool, 1d, C)) with parameters (Function(<class 'int'>))\n",
      "\n",
      "During: resolving callee type: BoundFunction(array.astype for array(bool, 1d, C))\n",
      "During: typing of call at /tmp/ipykernel_36924/4218925392.py (15)\n",
      "\n",
      "\n",
      "File \"../../../../../tmp/ipykernel_36924/4218925392.py\", line 15:\n",
      "<source missing, REPL/exec in use?>\n",
      "\n",
      "  self._object._train(train_pool, test_pool, params, allow_clear_pool, init_model._object if init_model else None)\n"
     ]
    },
    {
     "name": "stdout",
     "output_type": "stream",
     "text": [
      "50:\tlearn: 0.6618212\ttest: 0.5148397\tbest: 0.5148397 (50)\ttotal: 482ms\tremaining: 8.96s\n",
      "100:\tlearn: 0.8116578\ttest: 0.5942377\tbest: 0.5989402 (92)\ttotal: 891ms\tremaining: 7.93s\n",
      "150:\tlearn: 0.8649428\ttest: 0.6610884\tbest: 0.6610884 (145)\ttotal: 1.32s\tremaining: 7.42s\n",
      "200:\tlearn: 0.8952646\ttest: 0.6438122\tbest: 0.6779758 (178)\ttotal: 1.71s\tremaining: 6.8s\n",
      "250:\tlearn: 0.9362061\ttest: 0.6305286\tbest: 0.6779758 (178)\ttotal: 2.12s\tremaining: 6.31s\n",
      "Stopped by overfitting detector  (100 iterations wait)\n",
      "\n",
      "bestTest = 0.6779758482\n",
      "bestIteration = 178\n",
      "\n",
      "Shrink model to first 179 iterations.\n"
     ]
    },
    {
     "data": {
      "text/plain": [
       "<catboost.core.CatBoostClassifier at 0x7ff3ee25f730>"
      ]
     },
     "execution_count": 83,
     "metadata": {},
     "output_type": "execute_result"
    }
   ],
   "source": [
    "model = CatBoostClassifier(random_state=42,\n",
    "                           cat_features=cat_cols,\n",
    "                           eval_metric=P4Metric())\n",
    "\n",
    "model.fit(X_train, y_train, \n",
    "          eval_set=(X_test, y_test),\n",
    "          verbose=50, plot=False, \n",
    "          early_stopping_rounds=100)"
   ]
  }
 ],
 "metadata": {
  "kernelspec": {
   "display_name": "Python 3 (ipykernel)",
   "language": "python",
   "name": "python3"
  },
  "language_info": {
   "codemirror_mode": {
    "name": "ipython",
    "version": 3
   },
   "file_extension": ".py",
   "mimetype": "text/x-python",
   "name": "python",
   "nbconvert_exporter": "python",
   "pygments_lexer": "ipython3",
   "version": "3.9.18"
  }
 },
 "nbformat": 4,
 "nbformat_minor": 5
}
