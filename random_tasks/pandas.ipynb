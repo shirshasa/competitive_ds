{
 "cells": [
  {
   "cell_type": "code",
   "execution_count": 1,
   "id": "16302ddd-ccf9-434c-ad37-f110d860544c",
   "metadata": {},
   "outputs": [
    {
     "data": {
      "text/html": [
       "<div>\n",
       "<style scoped>\n",
       "    .dataframe tbody tr th:only-of-type {\n",
       "        vertical-align: middle;\n",
       "    }\n",
       "\n",
       "    .dataframe tbody tr th {\n",
       "        vertical-align: top;\n",
       "    }\n",
       "\n",
       "    .dataframe thead th {\n",
       "        text-align: right;\n",
       "    }\n",
       "</style>\n",
       "<table border=\"1\" class=\"dataframe\">\n",
       "  <thead>\n",
       "    <tr style=\"text-align: right;\">\n",
       "      <th></th>\n",
       "      <th>user_id</th>\n",
       "      <th>car_id</th>\n",
       "      <th>ride_id</th>\n",
       "      <th>ride_date</th>\n",
       "      <th>rating</th>\n",
       "      <th>ride_duration</th>\n",
       "      <th>ride_cost</th>\n",
       "      <th>speed_avg</th>\n",
       "      <th>speed_max</th>\n",
       "      <th>stop_times</th>\n",
       "      <th>distance</th>\n",
       "      <th>refueling</th>\n",
       "      <th>user_ride_quality</th>\n",
       "      <th>deviation_normal</th>\n",
       "    </tr>\n",
       "  </thead>\n",
       "  <tbody>\n",
       "    <tr>\n",
       "      <th>534404</th>\n",
       "      <td>r17989452S</td>\n",
       "      <td>l29142213W</td>\n",
       "      <td>m1U</td>\n",
       "      <td>2020-01-27</td>\n",
       "      <td>6.64</td>\n",
       "      <td>48</td>\n",
       "      <td>474</td>\n",
       "      <td>62</td>\n",
       "      <td>122.422641</td>\n",
       "      <td>0</td>\n",
       "      <td>2789.009550</td>\n",
       "      <td>0</td>\n",
       "      <td>-6.416323</td>\n",
       "      <td>2.301</td>\n",
       "    </tr>\n",
       "    <tr>\n",
       "      <th>177213</th>\n",
       "      <td>a14198824D</td>\n",
       "      <td>M20404037C</td>\n",
       "      <td>A1i</td>\n",
       "      <td>2020-02-12</td>\n",
       "      <td>4.97</td>\n",
       "      <td>5</td>\n",
       "      <td>75</td>\n",
       "      <td>39</td>\n",
       "      <td>66.000000</td>\n",
       "      <td>1</td>\n",
       "      <td>164.625185</td>\n",
       "      <td>0</td>\n",
       "      <td>9.925237</td>\n",
       "      <td>34.262</td>\n",
       "    </tr>\n",
       "    <tr>\n",
       "      <th>467618</th>\n",
       "      <td>s12770196V</td>\n",
       "      <td>h-1179139J</td>\n",
       "      <td>z1f</td>\n",
       "      <td>2020-02-12</td>\n",
       "      <td>5.40</td>\n",
       "      <td>12</td>\n",
       "      <td>152</td>\n",
       "      <td>48</td>\n",
       "      <td>63.000000</td>\n",
       "      <td>0</td>\n",
       "      <td>469.241250</td>\n",
       "      <td>0</td>\n",
       "      <td>-2.830689</td>\n",
       "      <td>-13.926</td>\n",
       "    </tr>\n",
       "    <tr>\n",
       "      <th>106550</th>\n",
       "      <td>N19021616c</td>\n",
       "      <td>H16125822e</td>\n",
       "      <td>j1i</td>\n",
       "      <td>2020-02-02</td>\n",
       "      <td>2.90</td>\n",
       "      <td>20</td>\n",
       "      <td>274</td>\n",
       "      <td>39</td>\n",
       "      <td>94.000000</td>\n",
       "      <td>1</td>\n",
       "      <td>434.684334</td>\n",
       "      <td>0</td>\n",
       "      <td>-6.786111</td>\n",
       "      <td>29.794</td>\n",
       "    </tr>\n",
       "    <tr>\n",
       "      <th>525562</th>\n",
       "      <td>i21370499e</td>\n",
       "      <td>l-1177682G</td>\n",
       "      <td>Z1H</td>\n",
       "      <td>2020-02-13</td>\n",
       "      <td>4.17</td>\n",
       "      <td>5</td>\n",
       "      <td>94</td>\n",
       "      <td>51</td>\n",
       "      <td>123.044404</td>\n",
       "      <td>0</td>\n",
       "      <td>275.221538</td>\n",
       "      <td>0</td>\n",
       "      <td>0.390967</td>\n",
       "      <td>-7.046</td>\n",
       "    </tr>\n",
       "  </tbody>\n",
       "</table>\n",
       "</div>"
      ],
      "text/plain": [
       "           user_id      car_id ride_id   ride_date  rating  ride_duration  \\\n",
       "534404  r17989452S  l29142213W     m1U  2020-01-27    6.64             48   \n",
       "177213  a14198824D  M20404037C     A1i  2020-02-12    4.97              5   \n",
       "467618  s12770196V  h-1179139J     z1f  2020-02-12    5.40             12   \n",
       "106550  N19021616c  H16125822e     j1i  2020-02-02    2.90             20   \n",
       "525562  i21370499e  l-1177682G     Z1H  2020-02-13    4.17              5   \n",
       "\n",
       "        ride_cost  speed_avg   speed_max  stop_times     distance  refueling  \\\n",
       "534404        474         62  122.422641           0  2789.009550          0   \n",
       "177213         75         39   66.000000           1   164.625185          0   \n",
       "467618        152         48   63.000000           0   469.241250          0   \n",
       "106550        274         39   94.000000           1   434.684334          0   \n",
       "525562         94         51  123.044404           0   275.221538          0   \n",
       "\n",
       "        user_ride_quality  deviation_normal  \n",
       "534404          -6.416323             2.301  \n",
       "177213           9.925237            34.262  \n",
       "467618          -2.830689           -13.926  \n",
       "106550          -6.786111            29.794  \n",
       "525562           0.390967            -7.046  "
      ]
     },
     "execution_count": 1,
     "metadata": {},
     "output_type": "execute_result"
    }
   ],
   "source": [
    "import pandas as pd\n",
    "\n",
    "url = 'https://drive.google.com/uc?id=1eqFIZCJTkXY-PsTeS-uz_DousIH3XQu-'  \n",
    "rides = pd.read_csv(url) # Открываем rides_info - информация про поездки\n",
    "rides.sample(5)"
   ]
  },
  {
   "cell_type": "code",
   "execution_count": 3,
   "id": "57349ab9-fed3-4a73-acd0-0acf9fb6cca9",
   "metadata": {},
   "outputs": [
    {
     "data": {
      "text/plain": [
       "more_30       699420\n",
       "no_more_30     40080\n",
       "Name: speed_avg_greater_30, dtype: int64"
      ]
     },
     "execution_count": 3,
     "metadata": {},
     "output_type": "execute_result"
    }
   ],
   "source": [
    "# Определяем lambda функцию с тернарным оператором внутри\n",
    "my_awesome_function = lambda x: 'more_30' if x > 30 else 'no_more_30'\n",
    "\n",
    "# Применяем функцию к столбцу\n",
    "rides['speed_avg_greater_30'] = rides['speed_avg'].apply(my_awesome_function)\n",
    "\n",
    "# Смотрим результат\n",
    "rides['speed_avg_greater_30'].value_counts() "
   ]
  },
  {
   "cell_type": "markdown",
   "id": "bbbad2d3-43f6-45a0-8038-ba664141d8e9",
   "metadata": {},
   "source": [
    "Если рейтинг выше 6 и максимальная скорость поездки меньше 120 км/ч, то стоимость поездки (ride_cost) уменьшите на 5%.\n",
    "\n",
    "В противном случае: стоимость поездки (ride_cost) увеличьте на 5%.\n",
    "\n"
   ]
  },
  {
   "cell_type": "code",
   "execution_count": 6,
   "id": "a2096c40-ab3c-4921-88a9-ad46906b85a6",
   "metadata": {},
   "outputs": [],
   "source": [
    "def price_making(x):\n",
    "    if x['rating'] > 6 and x['speed_max'] < 120:\n",
    "        return x['ride_cost'] * 0.95\n",
    "    else:\n",
    "        return x['ride_cost'] * 1.05\n",
    "\n",
    "df['final_ride_cost'] = df.apply(price_making, axis=1).astype(int)"
   ]
  },
  {
   "cell_type": "code",
   "execution_count": 16,
   "id": "ff3ac34f-e842-4a73-aaee-c9f72cfa70b3",
   "metadata": {},
   "outputs": [
    {
     "data": {
      "text/html": [
       "<div>\n",
       "<style scoped>\n",
       "    .dataframe tbody tr th:only-of-type {\n",
       "        vertical-align: middle;\n",
       "    }\n",
       "\n",
       "    .dataframe tbody tr th {\n",
       "        vertical-align: top;\n",
       "    }\n",
       "\n",
       "    .dataframe thead th {\n",
       "        text-align: right;\n",
       "    }\n",
       "</style>\n",
       "<table border=\"1\" class=\"dataframe\">\n",
       "  <thead>\n",
       "    <tr style=\"text-align: right;\">\n",
       "      <th></th>\n",
       "      <th>car_id</th>\n",
       "      <th>rating</th>\n",
       "      <th>ride_duration</th>\n",
       "      <th>ride_cost</th>\n",
       "    </tr>\n",
       "  </thead>\n",
       "  <tbody>\n",
       "    <tr>\n",
       "      <th>0</th>\n",
       "      <td>A-1049127W</td>\n",
       "      <td>4.255172</td>\n",
       "      <td>1289.034483</td>\n",
       "      <td>15201.436782</td>\n",
       "    </tr>\n",
       "    <tr>\n",
       "      <th>1</th>\n",
       "      <td>A-1079539w</td>\n",
       "      <td>4.088046</td>\n",
       "      <td>2148.810345</td>\n",
       "      <td>27007.477011</td>\n",
       "    </tr>\n",
       "    <tr>\n",
       "      <th>2</th>\n",
       "      <td>A-1162143G</td>\n",
       "      <td>4.662299</td>\n",
       "      <td>479.017241</td>\n",
       "      <td>4599.678161</td>\n",
       "    </tr>\n",
       "    <tr>\n",
       "      <th>3</th>\n",
       "      <td>A-1228282M</td>\n",
       "      <td>4.225172</td>\n",
       "      <td>2167.534483</td>\n",
       "      <td>27379.522989</td>\n",
       "    </tr>\n",
       "    <tr>\n",
       "      <th>4</th>\n",
       "      <td>A-1339912r</td>\n",
       "      <td>4.690115</td>\n",
       "      <td>1436.614943</td>\n",
       "      <td>16185.545977</td>\n",
       "    </tr>\n",
       "  </tbody>\n",
       "</table>\n",
       "</div>"
      ],
      "text/plain": [
       "       car_id    rating  ride_duration     ride_cost\n",
       "0  A-1049127W  4.255172    1289.034483  15201.436782\n",
       "1  A-1079539w  4.088046    2148.810345  27007.477011\n",
       "2  A-1162143G  4.662299     479.017241   4599.678161\n",
       "3  A-1228282M  4.225172    2167.534483  27379.522989\n",
       "4  A-1339912r  4.690115    1436.614943  16185.545977"
      ]
     },
     "execution_count": 16,
     "metadata": {},
     "output_type": "execute_result"
    }
   ],
   "source": [
    "cols = [\"rating\", \"ride_duration\", \"ride_cost\"]\n",
    "\n",
    "# Производим группировку\n",
    "rides_gr = rides.groupby(\"car_id\", as_index=False)[cols].mean()\n",
    "\n",
    "# Смотрим результаты\n",
    "rides_gr.head()"
   ]
  },
  {
   "cell_type": "code",
   "execution_count": 17,
   "id": "53cdd485-0a11-4bd8-bc83-9ea73f09bcf8",
   "metadata": {},
   "outputs": [],
   "source": [
    "cols = [\"rating\", \"ride_cost\"]\n",
    "\n",
    "# Производим группировку\n",
    "rides_info_gr = rides.groupby(\"car_id\", as_index=False)[cols].agg([\"count\", \"mean\"])\n"
   ]
  },
  {
   "cell_type": "code",
   "execution_count": 21,
   "id": "81ebaf88-0114-4f00-8702-a970061cbe7d",
   "metadata": {},
   "outputs": [
    {
     "data": {
      "text/html": [
       "<div>\n",
       "<style scoped>\n",
       "    .dataframe tbody tr th:only-of-type {\n",
       "        vertical-align: middle;\n",
       "    }\n",
       "\n",
       "    .dataframe tbody tr th {\n",
       "        vertical-align: top;\n",
       "    }\n",
       "\n",
       "    .dataframe thead th {\n",
       "        text-align: right;\n",
       "    }\n",
       "</style>\n",
       "<table border=\"1\" class=\"dataframe\">\n",
       "  <thead>\n",
       "    <tr style=\"text-align: right;\">\n",
       "      <th></th>\n",
       "      <th>rating_count</th>\n",
       "      <th>rating_mean</th>\n",
       "      <th>ride_cost_count</th>\n",
       "      <th>ride_cost_mean</th>\n",
       "    </tr>\n",
       "    <tr>\n",
       "      <th>car_id</th>\n",
       "      <th></th>\n",
       "      <th></th>\n",
       "      <th></th>\n",
       "      <th></th>\n",
       "    </tr>\n",
       "  </thead>\n",
       "  <tbody>\n",
       "    <tr>\n",
       "      <th>A-1049127W</th>\n",
       "      <td>174</td>\n",
       "      <td>4.255172</td>\n",
       "      <td>174</td>\n",
       "      <td>15201.436782</td>\n",
       "    </tr>\n",
       "    <tr>\n",
       "      <th>A-1079539w</th>\n",
       "      <td>174</td>\n",
       "      <td>4.088046</td>\n",
       "      <td>174</td>\n",
       "      <td>27007.477011</td>\n",
       "    </tr>\n",
       "    <tr>\n",
       "      <th>A-1162143G</th>\n",
       "      <td>174</td>\n",
       "      <td>4.662299</td>\n",
       "      <td>174</td>\n",
       "      <td>4599.678161</td>\n",
       "    </tr>\n",
       "    <tr>\n",
       "      <th>A-1228282M</th>\n",
       "      <td>174</td>\n",
       "      <td>4.225172</td>\n",
       "      <td>174</td>\n",
       "      <td>27379.522989</td>\n",
       "    </tr>\n",
       "    <tr>\n",
       "      <th>A-1339912r</th>\n",
       "      <td>174</td>\n",
       "      <td>4.690115</td>\n",
       "      <td>174</td>\n",
       "      <td>16185.545977</td>\n",
       "    </tr>\n",
       "  </tbody>\n",
       "</table>\n",
       "</div>"
      ],
      "text/plain": [
       "            rating_count  rating_mean  ride_cost_count  ride_cost_mean\n",
       "car_id                                                                \n",
       "A-1049127W           174     4.255172              174    15201.436782\n",
       "A-1079539w           174     4.088046              174    27007.477011\n",
       "A-1162143G           174     4.662299              174     4599.678161\n",
       "A-1228282M           174     4.225172              174    27379.522989\n",
       "A-1339912r           174     4.690115              174    16185.545977"
      ]
     },
     "execution_count": 21,
     "metadata": {},
     "output_type": "execute_result"
    }
   ],
   "source": [
    "\n",
    "# Убираем мультииндекс\n",
    "rides_info_gr.columns = [\"_\".join(c) for c in rides_info_gr.columns]\n",
    "\n",
    "# Смотрим результаты (car_id теперь не столбец, а индекс)\n",
    "rides_info_gr.head()"
   ]
  },
  {
   "cell_type": "markdown",
   "id": "eaee3f41-3259-4de8-a652-32620dd8cc9e",
   "metadata": {},
   "source": [
    "    Столбец feature_1 - Количество уникальных значений остановок (stop_times).\n",
    "    Столбец feature_2 - Второй максимум столбца максимальной скорости (speed_max).\n",
    "    Столбец feature_3 - Отношение минимального и максимального значения рейтинга.\n",
    "    Столбец feature_4 - Самое популярное значение числа остановок (другим словами, мода).\n",
    "    Столбец feature_5 - Стандартное отклонение стоимостей поездок (ride_cost). "
   ]
  },
  {
   "cell_type": "code",
   "execution_count": 22,
   "id": "999a853c-1807-4541-848a-a8cc18013947",
   "metadata": {},
   "outputs": [],
   "source": [
    "import numpy as np\n",
    "result = df.groupby('car_id', as_index=False).agg(\n",
    "    feature_1 = ('stop_times', 'nunique'),\n",
    "    feature_2 = ('speed_max', lambda x: x.sort_values().iloc[-2]),\n",
    "    feature_3 = ('rating', lambda x: x.min() / x.max()),\n",
    "    feature_4 = ('stop_times', lambda x: x.mode()[0]),\n",
    "    feature_5 = ('ride_cost', 'std')\n",
    ")"
   ]
  },
  {
   "cell_type": "code",
   "execution_count": 24,
   "id": "57077162-bea9-482a-a6a5-f4d93b1e6d14",
   "metadata": {},
   "outputs": [
    {
     "data": {
      "text/html": [
       "<div>\n",
       "<style scoped>\n",
       "    .dataframe tbody tr th:only-of-type {\n",
       "        vertical-align: middle;\n",
       "    }\n",
       "\n",
       "    .dataframe tbody tr th {\n",
       "        vertical-align: top;\n",
       "    }\n",
       "\n",
       "    .dataframe thead th {\n",
       "        text-align: right;\n",
       "    }\n",
       "</style>\n",
       "<table border=\"1\" class=\"dataframe\">\n",
       "  <thead>\n",
       "    <tr style=\"text-align: right;\">\n",
       "      <th></th>\n",
       "      <th>car_id</th>\n",
       "      <th>feature_1</th>\n",
       "      <th>feature_2</th>\n",
       "      <th>feature_3</th>\n",
       "      <th>feature_4</th>\n",
       "      <th>feature_5</th>\n",
       "    </tr>\n",
       "  </thead>\n",
       "  <tbody>\n",
       "    <tr>\n",
       "      <th>411</th>\n",
       "      <td>F-1561156R</td>\n",
       "      <td>20</td>\n",
       "      <td>116.0</td>\n",
       "      <td>0.010929</td>\n",
       "      <td>0</td>\n",
       "      <td>73810.355588</td>\n",
       "    </tr>\n",
       "    <tr>\n",
       "      <th>4026</th>\n",
       "      <td>x-5000537P</td>\n",
       "      <td>4</td>\n",
       "      <td>NaN</td>\n",
       "      <td>0.000000</td>\n",
       "      <td>1</td>\n",
       "      <td>81807.023823</td>\n",
       "    </tr>\n",
       "  </tbody>\n",
       "</table>\n",
       "</div>"
      ],
      "text/plain": [
       "          car_id  feature_1  feature_2  feature_3  feature_4     feature_5\n",
       "411   F-1561156R         20      116.0   0.010929          0  73810.355588\n",
       "4026  x-5000537P          4        NaN   0.000000          1  81807.023823"
      ]
     },
     "execution_count": 24,
     "metadata": {},
     "output_type": "execute_result"
    }
   ],
   "source": [
    "result.sample(2)"
   ]
  },
  {
   "cell_type": "markdown",
   "id": "9ecedc3a-34e8-4303-b3e5-cae34c0f4078",
   "metadata": {},
   "source": [
    "Датасет rides содержит столбцы: car_id, ride_id, rating, ride_duration, ride_cost\n",
    "\n",
    "Датасет cars содержит столбцы:car_id, model, riders, target_class\n",
    "\n",
    "    Обогатите датасет rides про поездки информацией о будущем виде поломки, используя датасет cars. \n",
    "    Удалите лишние столбцы. Таблицу rides надо дополнить лишь столбцом target_class.\n",
    "    Удалите поездки, для которых нет информации про поломки.  \n",
    "    Запишите в переменную result."
   ]
  },
  {
   "cell_type": "code",
   "execution_count": 25,
   "id": "c882a5bf-80e5-46fd-b73d-94ebb66b9147",
   "metadata": {},
   "outputs": [],
   "source": [
    "# rides = pd.read_csv('https://stepik.org/media/attachments/lesson/779916/3_1_4_rides.csv')\n",
    "cars = pd.read_csv('https://stepik.org/media/attachments/lesson/779916/3_1_4_cars.csv')\n"
   ]
  },
  {
   "cell_type": "code",
   "execution_count": 30,
   "id": "2c8cb64b-2f86-4bb2-a8bd-005d501fb099",
   "metadata": {},
   "outputs": [],
   "source": [
    "rides.merge(cars[['car_id','target_class']], on='car_id', how='inner')"
   ]
  },
  {
   "cell_type": "markdown",
   "id": "f19ca597-7ef5-43ce-a790-c521eb9bdb8e",
   "metadata": {},
   "source": [
    "    Обогатите датасет rides про поездки дополнительными признаками без использования метода merge.\n",
    "    Добавьте столбец car_ride_count - общее число поездок для этой машины.\n",
    "    Добавьте столбец user_rating_max - максимальный рейтинг, поставленный этим пользователем.\n",
    "    Добавьте столбец user_ride_cost_mean - средняя стоимость поездки этого пользователя.\n",
    "    Результат запишите в переменную result."
   ]
  },
  {
   "cell_type": "code",
   "execution_count": 38,
   "id": "91513b09-7ecb-4e45-b539-07a2cc5a5ebc",
   "metadata": {},
   "outputs": [],
   "source": [
    "rides['car_ride_count'] = rides.groupby('car_id')['rating'].transform('count')\n",
    "rides['user_rating_max'] = rides.groupby('user_id')['rating'].transform('max')\n",
    "rides['user_ride_cost_mean'] = rides.groupby('user_id')['ride_cost'].transform('mean')"
   ]
  },
  {
   "cell_type": "markdown",
   "id": "ac157479-47b5-49c9-8411-7f956a3fad14",
   "metadata": {},
   "source": [
    "    Обогатите датасет rides про поездки дополнительными признаками без использования метода merge.\n",
    "    🤖 Добавьте столбец feature_1 — 75% перцентиль столбца ride_cost для каждого пользователя (user_id).\n",
    "    🎃 Добавьте столбец feature_2 — разницу максимального и минимального значения rating, деленную на среднее столбца rating для каждого пользователя (user_id).\n",
    "    👽 Добавьте столбец feature_3  — количество значений ride_duration, которое больше 40 для каждой машины (car_id).\n",
    "    👾 Добавьте столбец feature_4 — сумму значений ride_duration, которая больше 40 для каждой машины (car_id).\n",
    "    Результат запишите в переменную result."
   ]
  },
  {
   "cell_type": "code",
   "execution_count": 64,
   "id": "aeb0b1dc-637d-40d1-a646-298737cc1bec",
   "metadata": {},
   "outputs": [],
   "source": [
    "rides = pd.read_csv('https://stepik.org/media/attachments/lesson/779916/3_1_6.csv')\n"
   ]
  },
  {
   "cell_type": "code",
   "execution_count": 68,
   "id": "556b5749-5278-42fe-b2cf-edf8fa0c1934",
   "metadata": {},
   "outputs": [
    {
     "data": {
      "text/plain": [
       "0      True\n",
       "1      True\n",
       "2      True\n",
       "3      True\n",
       "4      True\n",
       "      ...  \n",
       "95     True\n",
       "96    False\n",
       "97    False\n",
       "98     True\n",
       "99    False\n",
       "Name: ride_duration, Length: 100, dtype: bool"
      ]
     },
     "execution_count": 68,
     "metadata": {},
     "output_type": "execute_result"
    }
   ],
   "source": [
    "(rides['ride_duration'] > 40)"
   ]
  },
  {
   "cell_type": "code",
   "execution_count": 69,
   "id": "4083b0f2-7133-436f-b64d-84b99ec16ef1",
   "metadata": {},
   "outputs": [],
   "source": [
    "rides['feature_1'] = rides.groupby('user_id')['ride_cost'].transform(lambda x: np.percentile(x, 75))\n",
    "rides['feature_2'] = rides.groupby('user_id')['rating'].transform(lambda x: (x.max() - x.min()) / x.mean())\n",
    "rides['feature_3'] = rides.groupby('car_id')['ride_duration'].transform(lambda x: (x > 40).sum())\n",
    "rides['feature_4'] = rides.groupby('car_id')['ride_duration'].transform(lambda x: x[x > 40].sum())"
   ]
  },
  {
   "cell_type": "markdown",
   "id": "f33605d8-ef9e-41e6-bafb-5f83d762adde",
   "metadata": {},
   "source": [
    "Индексом во всех таблицах будет user_id.\n",
    "\n",
    "    🙂 Первая таблица: Сколько раз пользователь брал машины определенного класса? \n",
    "    🙃 Вторая таблица: Какими были минимальная, максимальная, средняя дистанция и стоимость поездки пользователя?\n",
    "    🙂 Третья таблица: Сколько уникальных машин брал пользователь в аренду?\n",
    "    Далее соединяем по ключу (смерживаем) все 3 таблицы в одну.\n",
    "    И в конце добавляем бинарный таргет в столбец crazy_driver: Является ли наш пользователь безумным гонщиком? Если его максимальная скорость превышала 100 км/ч, то 1; если не превышала, то 0.\n",
    "\n",
    "Результат решения запишите в переменную result."
   ]
  },
  {
   "cell_type": "code",
   "execution_count": 147,
   "id": "5588da5c-833a-4703-af91-94932209da12",
   "metadata": {},
   "outputs": [],
   "source": [
    "import pandas as pd\n",
    "\n",
    "df = pd.read_csv('https://stepik.org/media/attachments/lesson/779916/3_1_7.csv')\n"
   ]
  },
  {
   "cell_type": "code",
   "execution_count": 148,
   "id": "f80edcf5-8a66-4345-92fc-a263c799129f",
   "metadata": {},
   "outputs": [
    {
     "data": {
      "text/html": [
       "<div>\n",
       "<style scoped>\n",
       "    .dataframe tbody tr th:only-of-type {\n",
       "        vertical-align: middle;\n",
       "    }\n",
       "\n",
       "    .dataframe tbody tr th {\n",
       "        vertical-align: top;\n",
       "    }\n",
       "\n",
       "    .dataframe thead th {\n",
       "        text-align: right;\n",
       "    }\n",
       "</style>\n",
       "<table border=\"1\" class=\"dataframe\">\n",
       "  <thead>\n",
       "    <tr style=\"text-align: right;\">\n",
       "      <th></th>\n",
       "      <th>user_id</th>\n",
       "      <th>car_type</th>\n",
       "      <th>car_id</th>\n",
       "      <th>distance</th>\n",
       "      <th>ride_cost</th>\n",
       "      <th>speed_max</th>\n",
       "      <th>model</th>\n",
       "    </tr>\n",
       "  </thead>\n",
       "  <tbody>\n",
       "    <tr>\n",
       "      <th>24</th>\n",
       "      <td>S51575404w</td>\n",
       "      <td>economy</td>\n",
       "      <td>A-1049127W</td>\n",
       "      <td>398.859961</td>\n",
       "      <td>257</td>\n",
       "      <td>69.0</td>\n",
       "      <td>Hyundai Solaris</td>\n",
       "    </tr>\n",
       "    <tr>\n",
       "      <th>16</th>\n",
       "      <td>T73601037O</td>\n",
       "      <td>economy</td>\n",
       "      <td>A-1049127W</td>\n",
       "      <td>121.231506</td>\n",
       "      <td>46</td>\n",
       "      <td>83.0</td>\n",
       "      <td>Hyundai Solaris</td>\n",
       "    </tr>\n",
       "  </tbody>\n",
       "</table>\n",
       "</div>"
      ],
      "text/plain": [
       "       user_id car_type      car_id    distance  ride_cost  speed_max  \\\n",
       "24  S51575404w  economy  A-1049127W  398.859961        257       69.0   \n",
       "16  T73601037O  economy  A-1049127W  121.231506         46       83.0   \n",
       "\n",
       "              model  \n",
       "24  Hyundai Solaris  \n",
       "16  Hyundai Solaris  "
      ]
     },
     "execution_count": 148,
     "metadata": {},
     "output_type": "execute_result"
    }
   ],
   "source": [
    "df.sample(2)"
   ]
  },
  {
   "cell_type": "code",
   "execution_count": 160,
   "id": "c4094bda-9db6-45e0-9ca1-739b1557b968",
   "metadata": {},
   "outputs": [],
   "source": [
    "df1 = pd.pivot_table(\n",
    "    df, index='user_id', columns='car_type', values='car_id', aggfunc='count', fill_value=0, \n",
    ")\n",
    "df1.columns = [f'{i}_count' for i in df1.columns]\n",
    "\n",
    "df2 = pd.pivot_table(\n",
    "    df, index='user_id', values=['distance', 'ride_cost'], aggfunc=['min', 'max', 'mean'],  \n",
    ")\n",
    "df2.columns = [f'{i[1]}_{i[0]}' for i in df2.columns]\n",
    "\n",
    "df3 = pd.pivot_table(\n",
    "    df, index='user_id', values=['car_id'], aggfunc=lambda x: x.nunique()\n",
    ")\n",
    "df3.columns = [f'{i}_nunique' for i in df3.columns]\n",
    "\n",
    "df4 = pd.pivot_table(\n",
    "    df, index='user_id', values=['speed_max'], aggfunc=lambda x: int(x.max() > 100)\n",
    ")\n",
    "df4.columns = ['crazy_driver']\n",
    "result = df1.merge(df2, on='user_id').merge(df3, on='user_id').merge(df4, on='user_id')\n",
    "result = result.reset_index()\n",
    "result[['economy_count',\t'standart_count']] = result[['economy_count',\t'standart_count']].astype(float)\n"
   ]
  },
  {
   "cell_type": "code",
   "execution_count": 157,
   "id": "4dfb41ff-bcb6-4a5c-87df-d82c3d493e13",
   "metadata": {},
   "outputs": [],
   "source": [
    "# В ans записан правильный ответ\n",
    "ans = pd.read_csv('https://stepik.org/media/attachments/lesson/779916/3_1_7_ans.csv')"
   ]
  }
 ],
 "metadata": {
  "kernelspec": {
   "display_name": "Python 3 (ipykernel)",
   "language": "python",
   "name": "python3"
  },
  "language_info": {
   "codemirror_mode": {
    "name": "ipython",
    "version": 3
   },
   "file_extension": ".py",
   "mimetype": "text/x-python",
   "name": "python",
   "nbconvert_exporter": "python",
   "pygments_lexer": "ipython3",
   "version": "3.9.18"
  }
 },
 "nbformat": 4,
 "nbformat_minor": 5
}
